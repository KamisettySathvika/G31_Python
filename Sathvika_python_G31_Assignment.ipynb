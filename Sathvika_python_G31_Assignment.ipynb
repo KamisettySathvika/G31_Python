{
  "nbformat": 4,
  "nbformat_minor": 0,
  "metadata": {
    "colab": {
      "provenance": [],
      "authorship_tag": "ABX9TyM/3lgwDBfZfIRiTi6Joswg",
      "include_colab_link": true
    },
    "kernelspec": {
      "name": "python3",
      "display_name": "Python 3"
    },
    "language_info": {
      "name": "python"
    }
  },
  "cells": [
    {
      "cell_type": "markdown",
      "metadata": {
        "id": "view-in-github",
        "colab_type": "text"
      },
      "source": [
        "<a href=\"https://colab.research.google.com/github/KamisettySathvika/G31_Python/blob/main/Sathvika_python_G31_Assignment.ipynb\" target=\"_parent\"><img src=\"https://colab.research.google.com/assets/colab-badge.svg\" alt=\"Open In Colab\"/></a>"
      ]
    },
    {
      "cell_type": "markdown",
      "source": [
        "ASSIGNMENT 1 : USE CASE OF OPERATORS"
      ],
      "metadata": {
        "id": "vuqV3LC-LhbP"
      }
    },
    {
      "cell_type": "markdown",
      "source": [
        "1. Arithmetic Operators:\n",
        "   * Addition:\n",
        "     - Total salary calculation\n",
        "     - Summing measurements\n",
        "     - Tracking expenses\n",
        "     - Calculating income\n",
        "     - Summing calories burnt (smartwatch tracker)\n",
        "   * Subtraction:\n",
        "     - Calculating age using Date of Birth (DOB)\n",
        "     - Determining the number of hours left (deadline, time-tracker for sports)\n",
        "     - Money transactions\n",
        "     - Calculating price differences\n",
        "   * Multiplication:\n",
        "     - Finding area of land\n",
        "     - Calculating volume\n",
        "     - Time conversion (hours to minutes and vice versa)\n",
        "     - Measurement conversions\n",
        "     - Interest calculation\n",
        "   * Division:\n",
        "     - Calculating speed\n",
        "     - Distributing items equally (e.g., chocolates)\n",
        "     - Finding leap years\n",
        "     - Determining the number of weeks in a month\n",
        "   * Modulus:\n",
        "     - Calculating change\n",
        "     - Determining which day of the week falls on a particular date\n",
        "\n",
        "2. Assignment Operators:\n",
        "   - Updating variables like hours spent on a task\n",
        "   - Updating balances (+=, -=, *=)\n",
        "   - Tracking completed tasks (to-do list)\n",
        "   - Recording calories burnt (smartwatch tracker)\n",
        "   - Counting steps\n",
        "   - Counting heartbeats\n",
        "\n",
        "3. Comparison Operators:\n",
        "   - Grading based on marks\n",
        "   - Comparing quantities\n",
        "   - Comparing temperatures\n",
        "   - Comparing ages to determine elder/younger\n",
        "   - Comparing times\n",
        "   - Comparing speeds\n",
        "\n",
        "4. Logical Operators:\n",
        "   - Controlling light switches\n",
        "   - Decision making in programs or systems\n",
        "   - Performing calculations in calculators\n",
        "   - Activating security alarms based on conditions\n",
        "\n",
        "5. Membership Operators:\n",
        "   - Checking if a particular item is available\n",
        "   - Tracking class attendance\n",
        "   - Managing guest lists\n",
        "   - Managing contact lists\n",
        "   - Identifying social media friends\n",
        "   - Selecting items from a menu (food)\n",
        "\n",
        "6. Identity Operators:\n",
        "   - Verifying if a user is human or robot (robot check)\n",
        "   - Captcha verification\n",
        "   - Authenticating logins\n",
        "   - Verifying email addresses\n",
        "   - Matching person's name with address for order delivery\n",
        "   - Verifying attendance against register ID numbers\n",
        "   - Matching job requirements\n",
        "   - Verifying age for certain activities\n",
        "   - Confirming reservations (e.g., bus traveling)"
      ],
      "metadata": {
        "id": "39UdNVknLsIj"
      }
    },
    {
      "cell_type": "markdown",
      "source": [
        "ASSIGNMENT 2 :QUESTIONS ON OPERATORS"
      ],
      "metadata": {
        "id": "U21wRiMmL2a5"
      }
    },
    {
      "cell_type": "markdown",
      "source": [
        "\n",
        "1)Arithmetic Operators:\n",
        "\n",
        "What are the basic arithmetic operators in Python?\n",
        "Can you explain the behavior of the modulo operator (%) with negative numbers?\n",
        "What happens when you try to perform arithmetic operations between different data types in Python?\n",
        "how does floor division differ from regular division?\n",
        "What happens if you perform floor division with negative numbers in Python?\n",
        "Explain how floor division handles floating-point numbers in Python?\n",
        "Give a example where floor division would be preferred over regular division in Python?\n",
        "\n",
        "2)Comparison Operators:\n",
        "\n",
        "What are the comparison operators in Python, and what do they return?\n",
        "How does Python handle comparisons between different data types?\n",
        "explain the difference between the '==' operator and the 'is' operator in Python?\n",
        "How does Python compare strings and lists?\n",
        "\n",
        "3)Assignment Operators:\n",
        "\n",
        "What are assignment operators, and how do they differ from regular assignment in Python?\n",
        "Can you explain the difference between '=' and '==' in Python?\n",
        "How do assignment operators like '+=', '-=', '*=', etc., work in Python?\n",
        "How does Python manage chained assignments such as 'a = b = c = 10'?\n",
        "\n",
        "4)Logical Operators:\n",
        "\n",
        "What are the logical operators in Python, and how are they used?\n",
        "How does Python evaluate more than one conditions with logical operators?\n",
        "explain the difference between 'and' and 'or' operators in Python?\n",
        "\n",
        "5)Membership Operators\n",
        " What are the two membership operators in Python?\n",
        " How do you use the `in` operator to check membership in a list?\n",
        " What does the `not in` operator do in Python?\n",
        " How do membership operators differ from comparison operators?\n",
        "\n",
        "6)Identity Operators\n",
        "What are the two identity operators in Python?\n",
        "How does the \"is\" operator differ from the \"==\" operator?\n",
        "When would you use the \"is\" operator instead of \"==\"?\n",
        "What does the \"is not\" operator do in Python?\n",
        "Can identity operators be used with all data types in Python?\n",
        "\n"
      ],
      "metadata": {
        "id": "Wr0xnU-yL5Hq"
      }
    },
    {
      "cell_type": "markdown",
      "source": [
        "ASSIGNMENT 3: QUESTIONS ON LOOPS"
      ],
      "metadata": {
        "id": "9Gjw12ABMVk4"
      }
    },
    {
      "cell_type": "markdown",
      "source": [
        "Questions on for loop and while loop\n",
        "\n",
        "1)when is for loop preferred over while loop?\n",
        "2)what is infinite loop problem?  \n",
        "3)How do you ensure that an infinite loop does not cause your program to hang or crash?\n",
        "4)Explain the difference between the break and continue statements in loops.\n",
        "5)What is the main difference between a while loop and a for loop?\n",
        "6)In what scenarios you will encounter an infinite loop when using a while loop?\n",
        "7)How is a for loop different from a while loop in how you write it?\n",
        "8)Is there a difference in how fast for loops and while loops run?\n",
        "9)when finite values are given which loop is used?\n",
        "10)can  while loop be preferred in the case of finite values?\n",
        "11)How does the syntax of a for loop in Python differ from that of a while loop?\n",
        "12)Give example where using a while loop might be preferred over a for loop, even with finite values?\n"
      ],
      "metadata": {
        "id": "dVKuGFb3MeQm"
      }
    },
    {
      "cell_type": "markdown",
      "source": [
        "ASSIGNMENT 4: PROBLEMS ON LOOPS"
      ],
      "metadata": {
        "id": "VvHJaMBsMf7z"
      }
    },
    {
      "cell_type": "code",
      "source": [
        "#code1\n",
        "n=int(input(\"ENTER RANGE\"))\n",
        "for i in range(1,n+1):\n",
        "    if i % 2 == 0:\n",
        "        print(f\"Iteration {i} is even\")\n",
        "    else:\n",
        "        print(f\"Iteration {i} is odd\")\n",
        "\n",
        "\n",
        "#code2\n",
        "names = []\n",
        "while True:\n",
        "    n = input(\"Enter the name of a student (or type 'stop' to end): \")\n",
        "    if n.lower() == \"stop\":\n",
        "        break\n",
        "    names.append(n)\n",
        "totalStrength = len(names)\n",
        "curr=int(input(\"current day strength: \"))\n",
        "attendance_percentage = (curr/totalStrength) * 100\n",
        "print(\"Total strength of students:\", totalStrength)\n",
        "print(\"Percentage of attendance today:\", attendance_percentage)\n",
        "\n",
        "\n",
        "#code3\n",
        "import math\n",
        "trip_distance = 1000\n",
        "mileage = 32\n",
        "capacity = 15\n",
        "req_fuel =math.ceil(trip_distance / mileage)\n",
        "num_refills =math.ceil(req_fuel /capacity)\n",
        "print(\"Number of stops required:\",num_refills)"
      ],
      "metadata": {
        "colab": {
          "base_uri": "https://localhost:8080/"
        },
        "id": "fw6vehtWMmar",
        "outputId": "0ebe3adb-2c14-4cf8-c123-943523ca1f06"
      },
      "execution_count": null,
      "outputs": [
        {
          "output_type": "stream",
          "name": "stdout",
          "text": [
            "ENTER RANGE4\n",
            "Iteration 1 is odd\n",
            "Iteration 2 is even\n",
            "Iteration 3 is odd\n",
            "Iteration 4 is even\n",
            "Enter the name of a student (or type 'stop' to end): SAI\n",
            "Enter the name of a student (or type 'stop' to end): STOP\n",
            "current day strength: 34\n",
            "Total strength of students: 1\n",
            "Percentage of attendance today: 3400.0\n",
            "Number of stops required: 3\n"
          ]
        }
      ]
    },
    {
      "cell_type": "markdown",
      "source": [
        "ASSIGNMENT 5: PATTERNS"
      ],
      "metadata": {
        "id": "In9NQhIw8XDX"
      }
    },
    {
      "cell_type": "code",
      "source": [
        "#1. Number Pyramid: Write a program using a loop to print a right-angled pyramid of numbers, starting from 1 at the top.\n",
        "\n",
        "n=int(input(\"enter n: \"))\n",
        "for i in range(1,n+1):\n",
        "    for j in range(i):\n",
        "        print(i,end=\" \")\n",
        "    print()\n",
        "\n",
        "\n",
        "print(\"  \")\n",
        "#2. Character Diamond: Create a program using a loop to print a diamond shape using asterisks (*) or other characters.\n",
        "\n",
        "for i in range(1,2*n):\n",
        "    if(i<=n):\n",
        "        for j in range(n-i):\n",
        "           print(\" \",end=\"\")\n",
        "        for j in range(i):\n",
        "            print(\"*\",end=\" \")\n",
        "        print()\n",
        "    else:\n",
        "        for j in range(i-n):\n",
        "           print(\" \",end=\"\")\n",
        "        for j in range(2*n-i):\n",
        "            print(\"*\",end=\" \")\n",
        "        print()\n",
        "\n",
        "print(\"  \")\n",
        "#3. Right-Angled Star Pattern: Generate a program using loops to print a right-angled pattern of asterisks.\n",
        "\n",
        "for i in range(1,n+1):\n",
        "    for j in range(i):\n",
        "        print(\"*\",end=\" \")\n",
        "    print()\n",
        "\n",
        "print(\"  \")\n",
        "#4. Hollow Square: Design a program using loops to print a hollow square using asterisks.\n",
        "\n",
        "for i in range(1,n+1):\n",
        "    if i==1 or i==n:\n",
        "        print(\"* \"*n,end=\"\")\n",
        "    else:\n",
        "        print(\"* \"+\"  \"*(n-2)+\"* \",end=\"\")\n",
        "    print()\n"
      ],
      "metadata": {
        "colab": {
          "base_uri": "https://localhost:8080/"
        },
        "id": "MZc_NgEc8a-Q",
        "outputId": "a7334850-94ca-4617-8ea7-b6afda3721cd"
      },
      "execution_count": 3,
      "outputs": [
        {
          "output_type": "stream",
          "name": "stdout",
          "text": [
            "enter n: 4\n",
            "1 \n",
            "2 2 \n",
            "3 3 3 \n",
            "4 4 4 4 \n",
            "  \n",
            "   * \n",
            "  * * \n",
            " * * * \n",
            "* * * * \n",
            " * * * \n",
            "  * * \n",
            "   * \n",
            "  \n",
            "* \n",
            "* * \n",
            "* * * \n",
            "* * * * \n",
            "  \n",
            "* * * * \n",
            "*     * \n",
            "*     * \n",
            "* * * * \n"
          ]
        }
      ]
    }
  ]
}